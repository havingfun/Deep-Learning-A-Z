{
 "cells": [
  {
   "cell_type": "code",
   "execution_count": 52,
   "metadata": {},
   "outputs": [],
   "source": [
    "# AutoEncoders\n",
    "\n",
    "# Importing the libraries\n",
    "import numpy as np\n",
    "import pandas as pd\n",
    "import torch\n",
    "import torch.nn as nn\n",
    "import torch.nn.parallel\n",
    "import torch.optim as optim\n",
    "import torch.utils.data\n",
    "from torch.autograd import Variable"
   ]
  },
  {
   "cell_type": "code",
   "execution_count": 53,
   "metadata": {},
   "outputs": [],
   "source": [
    "# Importing the dataset\n",
    "movies = pd.read_csv('ml-1m/movies.dat', sep = '::', header = None, engine = 'python', encoding = 'latin-1')\n",
    "users = pd.read_csv('ml-1m/users.dat', sep = '::', header = None, engine = 'python', encoding = 'latin-1')\n",
    "ratings = pd.read_csv('ml-1m/ratings.dat', sep = '::', header = None, engine = 'python', encoding = 'latin-1')"
   ]
  },
  {
   "cell_type": "code",
   "execution_count": 54,
   "metadata": {},
   "outputs": [],
   "source": [
    "# Preparing the training set and the test set\n",
    "training_set = pd.read_csv('ml-100k/u1.base', delimiter = '\\t')\n",
    "training_set = np.array(training_set, dtype = 'int')\n",
    "test_set = pd.read_csv('ml-100k/u1.test', delimiter = '\\t')\n",
    "test_set = np.array(test_set, dtype = 'int')"
   ]
  },
  {
   "cell_type": "code",
   "execution_count": 55,
   "metadata": {},
   "outputs": [
    {
     "name": "stdout",
     "output_type": "stream",
     "text": [
      "79999 19999\n"
     ]
    }
   ],
   "source": [
    "print(len(training_set), len(test_set))"
   ]
  },
  {
   "cell_type": "code",
   "execution_count": 56,
   "metadata": {},
   "outputs": [
    {
     "data": {
      "text/plain": [
       "array([[        1,         2,         3, 876893171],\n",
       "       [        1,         3,         4, 878542960],\n",
       "       [        1,         4,         3, 876893119],\n",
       "       [        1,         5,         3, 889751712],\n",
       "       [        1,         7,         4, 875071561]])"
      ]
     },
     "execution_count": 56,
     "metadata": {},
     "output_type": "execute_result"
    }
   ],
   "source": [
    "training_set[:][:5]"
   ]
  },
  {
   "cell_type": "code",
   "execution_count": 57,
   "metadata": {},
   "outputs": [
    {
     "name": "stdout",
     "output_type": "stream",
     "text": [
      "(6040, 5) (3883, 3)\n"
     ]
    }
   ],
   "source": [
    "print(users.shape, movies.shape)\n",
    "# np.zeros(users.shape[0])"
   ]
  },
  {
   "cell_type": "code",
   "execution_count": 58,
   "metadata": {},
   "outputs": [],
   "source": [
    "# Getting the number of users and movies\n",
    "nb_users = int(max(max(training_set[:,0]), max(test_set[:,0])))\n",
    "nb_movies = int(max(max(training_set[:,1]), max(test_set[:,1])))"
   ]
  },
  {
   "cell_type": "code",
   "execution_count": 59,
   "metadata": {},
   "outputs": [],
   "source": [
    "# Converting the data into an array with users in lines and movies in columns\n",
    "def convert(data):\n",
    "    new_data = []\n",
    "    for id_users in range(1, nb_users + 1):\n",
    "        id_movies = data[:,1][data[:,0] == id_users]\n",
    "        id_ratings = data[:,2][data[:,0] == id_users]\n",
    "        ratings = np.zeros(nb_movies)\n",
    "        ratings[id_movies - 1] = id_ratings\n",
    "        new_data.append(list(ratings))\n",
    "    return new_data\n",
    "training_set = convert(training_set)\n",
    "test_set = convert(test_set)\n",
    "\n",
    "# Converting the data into Torch tensors\n",
    "training_set = torch.FloatTensor(training_set)\n",
    "test_set = torch.FloatTensor(test_set)\n"
   ]
  },
  {
   "cell_type": "code",
   "execution_count": 60,
   "metadata": {},
   "outputs": [],
   "source": [
    "class SAE(nn.Module):\n",
    "    def __init__(self):\n",
    "        super(SAE, self).__init__()\n",
    "        self.fc1 = nn.Linear(nb_movies, 20)\n",
    "        self.fc2 = nn.Linear(20, 10)\n",
    "        self.fc3 = nn.Linear(10, 20)\n",
    "        self.fc4 = nn.Linear(20, nb_movies)\n",
    "        self.activation = nn.Sigmoid()\n",
    "    def forward(self, x):\n",
    "        x = self.activation(self.fc1(x))\n",
    "        x = self.activation(self.fc2(x))\n",
    "        x = self.activation(self.fc3(x))\n",
    "        x = self.fc4(x)\n",
    "        return x"
   ]
  },
  {
   "cell_type": "code",
   "execution_count": 61,
   "metadata": {},
   "outputs": [],
   "source": [
    "sae = SAE()\n",
    "criterion = nn.MSELoss()\n",
    "optimizer = optim.RMSprop(sae.parameters(), lr=0.01, weight_decay=0.5)"
   ]
  },
  {
   "cell_type": "code",
   "execution_count": 62,
   "metadata": {},
   "outputs": [
    {
     "data": {
      "text/plain": [
       "tensor(10.)"
      ]
     },
     "execution_count": 62,
     "metadata": {},
     "output_type": "execute_result"
    }
   ],
   "source": [
    "ls = torch.FloatTensor([1,2,3,4])\n",
    "rm = Variable(ls).unsqueeze(0)\n",
    "torch.sum(rm.data)"
   ]
  },
  {
   "cell_type": "code",
   "execution_count": 63,
   "metadata": {},
   "outputs": [
    {
     "data": {
      "text/plain": [
       "tensor(False)"
      ]
     },
     "execution_count": 63,
     "metadata": {},
     "output_type": "execute_result"
    }
   ],
   "source": [
    "torch.sum(rm.data > 2) > 3"
   ]
  },
  {
   "cell_type": "code",
   "execution_count": 64,
   "metadata": {},
   "outputs": [
    {
     "name": "stdout",
     "output_type": "stream",
     "text": [
      "epoch: 1 loss: 1.7723052708701907\n",
      "epoch: 2 loss: 1.096670960506384\n",
      "epoch: 3 loss: 1.0534786480785725\n",
      "epoch: 4 loss: 1.0386633879928335\n",
      "epoch: 5 loss: 1.0308984219715702\n",
      "epoch: 6 loss: 1.0265914606053006\n",
      "epoch: 7 loss: 1.0237834773368586\n",
      "epoch: 8 loss: 1.0218539890237166\n",
      "epoch: 9 loss: 1.020680079839534\n",
      "epoch: 10 loss: 1.0196458196686469\n",
      "epoch: 11 loss: 1.018859316874469\n",
      "epoch: 12 loss: 1.018507061861535\n",
      "epoch: 13 loss: 1.0179205016115425\n",
      "epoch: 14 loss: 1.0175630164412297\n",
      "epoch: 15 loss: 1.0170758074728121\n",
      "epoch: 16 loss: 1.0170595704444976\n",
      "epoch: 17 loss: 1.0166437503553314\n",
      "epoch: 18 loss: 1.0164027170206418\n",
      "epoch: 19 loss: 1.0162592232804881\n",
      "epoch: 20 loss: 1.0161293242959264\n",
      "epoch: 21 loss: 1.0160460080408988\n",
      "epoch: 22 loss: 1.0158371610105679\n",
      "epoch: 23 loss: 1.0159481103492853\n",
      "epoch: 24 loss: 1.0157432146364664\n",
      "epoch: 25 loss: 1.0155279604085676\n",
      "epoch: 26 loss: 1.0154158165634366\n",
      "epoch: 27 loss: 1.0155154722755455\n",
      "epoch: 28 loss: 1.0148353210715333\n",
      "epoch: 29 loss: 1.0132962273381723\n",
      "epoch: 30 loss: 1.0119202796465958\n",
      "epoch: 31 loss: 1.0094583281477105\n",
      "epoch: 32 loss: 1.0092662879661554\n",
      "epoch: 33 loss: 1.0051809294440293\n",
      "epoch: 34 loss: 1.0053346976743123\n",
      "epoch: 35 loss: 1.001548947440021\n",
      "epoch: 36 loss: 1.0004451620848474\n",
      "epoch: 37 loss: 0.997708281774613\n",
      "epoch: 38 loss: 0.9975846513889661\n",
      "epoch: 39 loss: 0.9941344365396245\n",
      "epoch: 40 loss: 0.9905451765899725\n",
      "epoch: 41 loss: 0.9894467481731296\n",
      "epoch: 42 loss: 0.9889814701008606\n",
      "epoch: 43 loss: 0.9855669264253946\n",
      "epoch: 44 loss: 0.9840281997443637\n",
      "epoch: 45 loss: 0.9809915235682671\n",
      "epoch: 46 loss: 0.982692067822583\n",
      "epoch: 47 loss: 0.977910196187143\n",
      "epoch: 48 loss: 0.9805576719750493\n",
      "epoch: 49 loss: 0.9752295917344259\n",
      "epoch: 50 loss: 0.972946706873628\n",
      "epoch: 51 loss: 0.9686316347317325\n",
      "epoch: 52 loss: 0.9711624105230908\n",
      "epoch: 53 loss: 0.9662160417908414\n",
      "epoch: 54 loss: 0.9672312969468012\n",
      "epoch: 55 loss: 0.9625513872126565\n",
      "epoch: 56 loss: 0.9624591548645184\n",
      "epoch: 57 loss: 0.9616237315136268\n",
      "epoch: 58 loss: 0.9615313938347373\n",
      "epoch: 59 loss: 0.9590356596572358\n",
      "epoch: 60 loss: 0.9583864962710249\n",
      "epoch: 61 loss: 0.9541471636705413\n",
      "epoch: 62 loss: 0.9549846087084117\n",
      "epoch: 63 loss: 0.951876986657755\n",
      "epoch: 64 loss: 0.9533710923000963\n",
      "epoch: 65 loss: 0.9516506756209515\n",
      "epoch: 66 loss: 0.9508409060464611\n",
      "epoch: 67 loss: 0.9494671466672335\n",
      "epoch: 68 loss: 0.9489867614118276\n",
      "epoch: 69 loss: 0.9468678081836727\n",
      "epoch: 70 loss: 0.9474762521199981\n",
      "epoch: 71 loss: 0.9458922652232852\n",
      "epoch: 72 loss: 0.9461977132024758\n",
      "epoch: 73 loss: 0.9437109952122381\n",
      "epoch: 74 loss: 0.9448589529774072\n",
      "epoch: 75 loss: 0.9425343077535353\n",
      "epoch: 76 loss: 0.9430850720802604\n",
      "epoch: 77 loss: 0.9418695729133447\n",
      "epoch: 78 loss: 0.9415333920065484\n",
      "epoch: 79 loss: 0.9401717847339144\n",
      "epoch: 80 loss: 0.9406481386682264\n",
      "epoch: 81 loss: 0.9397973927707921\n",
      "epoch: 82 loss: 0.939105558206704\n",
      "epoch: 83 loss: 0.9378612786991941\n",
      "epoch: 84 loss: 0.9379915015235393\n",
      "epoch: 85 loss: 0.9372636789003514\n",
      "epoch: 86 loss: 0.9373572006218036\n",
      "epoch: 87 loss: 0.9365040523221968\n",
      "epoch: 88 loss: 0.9365457311904468\n",
      "epoch: 89 loss: 0.935713606038192\n",
      "epoch: 90 loss: 0.9355736822956271\n",
      "epoch: 91 loss: 0.9347233345036603\n",
      "epoch: 92 loss: 0.9346329895511657\n",
      "epoch: 93 loss: 0.9339159510695011\n",
      "epoch: 94 loss: 0.9340928966549936\n",
      "epoch: 95 loss: 0.9332354543168069\n",
      "epoch: 96 loss: 0.9336032498501823\n",
      "epoch: 97 loss: 0.932339784205969\n",
      "epoch: 98 loss: 0.9330243859529421\n",
      "epoch: 99 loss: 0.9321770515487585\n",
      "epoch: 100 loss: 0.9317681384566081\n",
      "epoch: 101 loss: 0.9317177595033365\n",
      "epoch: 102 loss: 0.9313290810701002\n",
      "epoch: 103 loss: 0.9307814715333408\n",
      "epoch: 104 loss: 0.9304260975263734\n",
      "epoch: 105 loss: 0.9303526877935876\n",
      "epoch: 106 loss: 0.9302071106088172\n",
      "epoch: 107 loss: 0.9299101472201207\n",
      "epoch: 108 loss: 0.929401218735304\n",
      "epoch: 109 loss: 0.9288516560675034\n",
      "epoch: 110 loss: 0.9288318874027568\n",
      "epoch: 111 loss: 0.9286155513893972\n",
      "epoch: 112 loss: 0.9283938935085584\n",
      "epoch: 113 loss: 0.9282930408481913\n",
      "epoch: 114 loss: 0.9275295595197587\n",
      "epoch: 115 loss: 0.9273876995995595\n",
      "epoch: 116 loss: 0.9273651977485183\n",
      "epoch: 117 loss: 0.9268623211483636\n",
      "epoch: 118 loss: 0.9268121603405037\n",
      "epoch: 119 loss: 0.9261973025969079\n",
      "epoch: 120 loss: 0.9262109723966653\n",
      "epoch: 121 loss: 0.9260065152074111\n",
      "epoch: 122 loss: 0.9257435477364166\n",
      "epoch: 123 loss: 0.9254522795143054\n",
      "epoch: 124 loss: 0.925095011473802\n",
      "epoch: 125 loss: 0.9248767313139613\n",
      "epoch: 126 loss: 0.9246846109714912\n",
      "epoch: 127 loss: 0.924306801975844\n",
      "epoch: 128 loss: 0.9240945750789618\n",
      "epoch: 129 loss: 0.9233987161382634\n",
      "epoch: 130 loss: 0.9233124903064441\n",
      "epoch: 131 loss: 0.9228855136324857\n",
      "epoch: 132 loss: 0.9234257490085233\n",
      "epoch: 133 loss: 0.9233928240923882\n",
      "epoch: 134 loss: 0.9225293883718506\n",
      "epoch: 135 loss: 0.9223220644485711\n",
      "epoch: 136 loss: 0.9221312673351713\n",
      "epoch: 137 loss: 0.9215195456078901\n",
      "epoch: 138 loss: 0.9215073094493441\n",
      "epoch: 139 loss: 0.921415004449513\n",
      "epoch: 140 loss: 0.9209984843209207\n",
      "epoch: 141 loss: 0.9201325313251564\n",
      "epoch: 142 loss: 0.920454273063748\n",
      "epoch: 143 loss: 0.9206601970237563\n",
      "epoch: 144 loss: 0.9203758021984337\n",
      "epoch: 145 loss: 0.9200245943026419\n",
      "epoch: 146 loss: 0.9198930656656361\n",
      "epoch: 147 loss: 0.919756508998413\n",
      "epoch: 148 loss: 0.9194264736848538\n",
      "epoch: 149 loss: 0.9190651330459596\n",
      "epoch: 150 loss: 0.9187995619556194\n",
      "epoch: 151 loss: 0.9186548793106974\n",
      "epoch: 152 loss: 0.9185446780993769\n",
      "epoch: 153 loss: 0.9181731959318837\n",
      "epoch: 154 loss: 0.9186012476553846\n",
      "epoch: 155 loss: 0.9182788470351855\n",
      "epoch: 156 loss: 0.9181353206205306\n",
      "epoch: 157 loss: 0.9177119230050164\n",
      "epoch: 158 loss: 0.9177531255476763\n",
      "epoch: 159 loss: 0.9173491695992985\n",
      "epoch: 160 loss: 0.9173105378863732\n",
      "epoch: 161 loss: 0.9166629092977673\n",
      "epoch: 162 loss: 0.9170124192933112\n",
      "epoch: 163 loss: 0.9166919074501914\n",
      "epoch: 164 loss: 0.9167294019620352\n",
      "epoch: 165 loss: 0.9164165549432024\n",
      "epoch: 166 loss: 0.9162127594302889\n",
      "epoch: 167 loss: 0.9159356360849257\n",
      "epoch: 168 loss: 0.9159949262823137\n",
      "epoch: 169 loss: 0.9154391567036434\n",
      "epoch: 170 loss: 0.9156835584995738\n",
      "epoch: 171 loss: 0.9158452652716828\n",
      "epoch: 172 loss: 0.917326719915738\n",
      "epoch: 173 loss: 0.9152082643410837\n",
      "epoch: 174 loss: 0.9153766239272463\n",
      "epoch: 175 loss: 0.9145132300690539\n",
      "epoch: 176 loss: 0.9150073262887852\n",
      "epoch: 177 loss: 0.914069673108026\n",
      "epoch: 178 loss: 0.9146914285416551\n",
      "epoch: 179 loss: 0.9139427031128134\n",
      "epoch: 180 loss: 0.9143325601254062\n",
      "epoch: 181 loss: 0.9135997730065639\n",
      "epoch: 182 loss: 0.9142964035491828\n",
      "epoch: 183 loss: 0.913728934579873\n",
      "epoch: 184 loss: 0.9140160031272693\n",
      "epoch: 185 loss: 0.9132514910074417\n",
      "epoch: 186 loss: 0.9134847265403524\n",
      "epoch: 187 loss: 0.9130359079425309\n",
      "epoch: 188 loss: 0.9133357721165543\n",
      "epoch: 189 loss: 0.912872132621224\n",
      "epoch: 190 loss: 0.9133625318270173\n",
      "epoch: 191 loss: 0.9127777431032397\n",
      "epoch: 192 loss: 0.913021780571654\n",
      "epoch: 193 loss: 0.9125691371160999\n",
      "epoch: 194 loss: 0.9126770381441691\n",
      "epoch: 195 loss: 0.9120841355681457\n",
      "epoch: 196 loss: 0.9125503939520526\n",
      "epoch: 197 loss: 0.9121647620307173\n",
      "epoch: 198 loss: 0.9122204244030281\n",
      "epoch: 199 loss: 0.9114732532842843\n",
      "epoch: 200 loss: 0.9120382704837174\n"
     ]
    }
   ],
   "source": [
    "nb_epoch = 200\n",
    "for epoch in range(1, nb_epoch+1):\n",
    "    train_loss = 0.\n",
    "    s = 0.\n",
    "    for id_user in range(nb_users):\n",
    "        input = Variable(training_set[id_user]).unsqueeze(0)\n",
    "        target = input.clone()\n",
    "        if torch.sum(target.data > 0) > 0:\n",
    "            output = sae(target)\n",
    "            target.require_grad = False\n",
    "            output[target == 0] = 0\n",
    "            loss = criterion(output, target)\n",
    "            mean_corrector = nb_movies/float(torch.sum(target.data > 0) + 1e-10)\n",
    "            loss.backward()\n",
    "            train_loss += np.sqrt(loss.data.item()*mean_corrector)\n",
    "            s += 1.\n",
    "            optimizer.step()\n",
    "    print('epoch: '+str(epoch)+' loss: '+str(train_loss/s))"
   ]
  },
  {
   "cell_type": "code",
   "execution_count": 66,
   "metadata": {},
   "outputs": [
    {
     "name": "stderr",
     "output_type": "stream",
     "text": [
      "/Users/rkumar/anaconda2/envs/py3/lib/python3.6/site-packages/torch/nn/modules/loss.py:431: UserWarning: Using a target size (torch.Size([1682])) that is different to the input size (torch.Size([1, 1682])). This will likely lead to incorrect results due to broadcasting. Please ensure they have the same size.\n",
      "  return F.mse_loss(input, target, reduction=self.reduction)\n"
     ]
    },
    {
     "name": "stdout",
     "output_type": "stream",
     "text": [
      "test loss: 0.9534503771054728\n"
     ]
    }
   ],
   "source": [
    "# Testing the SAE\n",
    "test_loss = 0\n",
    "s = 0.\n",
    "for id_user in range(nb_users):\n",
    "    input = Variable(training_set[id_user]).unsqueeze(0)\n",
    "    target = Variable(test_set[id_user])\n",
    "    if torch.sum(target.data > 0) > 0:\n",
    "        output = sae(input)\n",
    "        target.require_grad = False\n",
    "        output[(target == 0).unsqueeze(0)] = 0\n",
    "        loss = criterion(output, target)\n",
    "        mean_corrector = nb_movies/float(torch.sum(target.data > 0) + 1e-10)\n",
    "        test_loss += np.sqrt(loss.data.item()*mean_corrector)\n",
    "        s += 1.\n",
    "print('test loss: '+str(test_loss/s))"
   ]
  },
  {
   "cell_type": "code",
   "execution_count": null,
   "metadata": {},
   "outputs": [],
   "source": []
  }
 ],
 "metadata": {
  "kernelspec": {
   "display_name": "Python 3",
   "language": "python",
   "name": "python3"
  },
  "language_info": {
   "codemirror_mode": {
    "name": "ipython",
    "version": 3
   },
   "file_extension": ".py",
   "mimetype": "text/x-python",
   "name": "python",
   "nbconvert_exporter": "python",
   "pygments_lexer": "ipython3",
   "version": "3.6.10"
  }
 },
 "nbformat": 4,
 "nbformat_minor": 4
}
