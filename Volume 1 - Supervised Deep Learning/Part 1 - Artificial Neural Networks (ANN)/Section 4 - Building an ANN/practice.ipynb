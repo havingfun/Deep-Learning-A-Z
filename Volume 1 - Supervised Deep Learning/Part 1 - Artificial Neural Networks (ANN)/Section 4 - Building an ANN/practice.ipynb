{
 "cells": [
  {
   "cell_type": "code",
   "execution_count": 11,
   "metadata": {},
   "outputs": [],
   "source": [
    "import pandas as pd\n",
    "import numpy as np\n",
    "import matplotlib.pyplot as plt"
   ]
  },
  {
   "cell_type": "code",
   "execution_count": 12,
   "metadata": {},
   "outputs": [],
   "source": [
    "from keras.models import Sequential\n",
    "from keras.layers import Dropout\n",
    "from keras.layers import Dense"
   ]
  },
  {
   "cell_type": "code",
   "execution_count": 13,
   "metadata": {},
   "outputs": [],
   "source": [
    "dataset = pd.read_csv('Churn_Modelling.csv')\n",
    "X = dataset.iloc[:, 3:13].values\n",
    "y = dataset.iloc[:, 13].values"
   ]
  },
  {
   "cell_type": "code",
   "execution_count": 14,
   "metadata": {},
   "outputs": [],
   "source": [
    "from sklearn.compose import ColumnTransformer\n",
    "from sklearn.preprocessing import LabelEncoder, OneHotEncoder\n",
    "labelEncoder_1 = LabelEncoder()\n",
    "X[:,1] = labelEncoder_1.fit_transform(X[:,1])\n",
    "labelEncoder_2 = LabelEncoder()\n",
    "X[:,2] = labelEncoder_1.fit_transform(X[:,2])"
   ]
  },
  {
   "cell_type": "code",
   "execution_count": 19,
   "metadata": {},
   "outputs": [
    {
     "data": {
      "text/plain": [
       "(10000, 11)"
      ]
     },
     "execution_count": 19,
     "metadata": {},
     "output_type": "execute_result"
    }
   ],
   "source": [
    "ct = ColumnTransformer([('encoder', OneHotEncoder(), [1])], remainder='passthrough', sparse_threshold=0)\n",
    "X = np.array(ct.fit_transform(X))\n",
    "X = X[:, 1:]\n",
    "X.shape"
   ]
  },
  {
   "cell_type": "code",
   "execution_count": 16,
   "metadata": {},
   "outputs": [],
   "source": [
    "from sklearn.model_selection import train_test_split\n",
    "X_train, X_test, y_train, y_test = train_test_split(X, y, test_size=0.2, random_state=0)"
   ]
  },
  {
   "cell_type": "code",
   "execution_count": 17,
   "metadata": {},
   "outputs": [],
   "source": [
    "from sklearn.preprocessing import StandardScaler\n",
    "scalar = StandardScaler()\n",
    "scalar.fit(X_train)\n",
    "X_train, X_test = scalar.transform(X_train), scalar.transform(X_test)"
   ]
  },
  {
   "cell_type": "code",
   "execution_count": 18,
   "metadata": {},
   "outputs": [],
   "source": [
    "import tensorflow as tf\n",
    "from keras import Sequential\n",
    "from keras.layers import Dense\n",
    "from keras.layers import Dropout\n",
    "classifier = Sequential()\n",
    "classifier.add(Dense(6, input_shape=(11,), activation = 'relu'))\n",
    "# classifier.add(Dropout(rate=0.1))\n",
    "classifier.add(Dense(6, activation = 'relu'))\n",
    "# classifier.add(Dropout(rate=0.1))\n",
    "classifier.add(Dense(1, activation = 'sigmoid'))\n",
    "classifier.compile(optimizer=tf.train.AdagradOptimizer(0.01), loss='binary_crossentropy', metrics=['accuracy'])"
   ]
  },
  {
   "cell_type": "code",
   "execution_count": 20,
   "metadata": {},
   "outputs": [
    {
     "name": "stderr",
     "output_type": "stream",
     "text": [
      "/Users/rkumar/anaconda2/envs/py3/lib/python3.6/site-packages/ipykernel_launcher.py:2: UserWarning: The `nb_epoch` argument in `fit` has been renamed `epochs`.\n",
      "  \n"
     ]
    },
    {
     "name": "stdout",
     "output_type": "stream",
     "text": [
      "Epoch 1/100\n",
      "8000/8000 [==============================] - 1s 107us/step - loss: 0.5393 - acc: 0.7664\n",
      "Epoch 2/100\n",
      "8000/8000 [==============================] - 1s 97us/step - loss: 0.4667 - acc: 0.7960\n",
      "Epoch 3/100\n",
      "8000/8000 [==============================] - 1s 98us/step - loss: 0.4534 - acc: 0.7961\n",
      "Epoch 4/100\n",
      "8000/8000 [==============================] - 1s 107us/step - loss: 0.4460 - acc: 0.7957\n",
      "Epoch 5/100\n",
      "8000/8000 [==============================] - 1s 109us/step - loss: 0.4405 - acc: 0.7985\n",
      "Epoch 6/100\n",
      "8000/8000 [==============================] - 1s 102us/step - loss: 0.4361 - acc: 0.8022\n",
      "Epoch 7/100\n",
      "8000/8000 [==============================] - 1s 100us/step - loss: 0.4323 - acc: 0.8070\n",
      "Epoch 8/100\n",
      "8000/8000 [==============================] - 1s 94us/step - loss: 0.4293 - acc: 0.8076\n",
      "Epoch 9/100\n",
      "8000/8000 [==============================] - 1s 90us/step - loss: 0.4266 - acc: 0.8085\n",
      "Epoch 10/100\n",
      "8000/8000 [==============================] - 1s 97us/step - loss: 0.4243 - acc: 0.8091\n",
      "Epoch 11/100\n",
      "8000/8000 [==============================] - 1s 91us/step - loss: 0.4222 - acc: 0.8119\n",
      "Epoch 12/100\n",
      "8000/8000 [==============================] - 1s 88us/step - loss: 0.4202 - acc: 0.8125\n",
      "Epoch 13/100\n",
      "8000/8000 [==============================] - 1s 89us/step - loss: 0.4184 - acc: 0.8132\n",
      "Epoch 14/100\n",
      "8000/8000 [==============================] - 1s 90us/step - loss: 0.4168 - acc: 0.8140\n",
      "Epoch 15/100\n",
      "8000/8000 [==============================] - 1s 95us/step - loss: 0.4152 - acc: 0.8157\n",
      "Epoch 16/100\n",
      "8000/8000 [==============================] - 1s 93us/step - loss: 0.4138 - acc: 0.8165\n",
      "Epoch 17/100\n",
      "8000/8000 [==============================] - 1s 91us/step - loss: 0.4124 - acc: 0.8186\n",
      "Epoch 18/100\n",
      "8000/8000 [==============================] - 1s 91us/step - loss: 0.4111 - acc: 0.8186\n",
      "Epoch 19/100\n",
      "8000/8000 [==============================] - 1s 97us/step - loss: 0.4098 - acc: 0.8191\n",
      "Epoch 20/100\n",
      "8000/8000 [==============================] - 1s 98us/step - loss: 0.4087 - acc: 0.8207\n",
      "Epoch 21/100\n",
      "8000/8000 [==============================] - 1s 97us/step - loss: 0.4075 - acc: 0.8217\n",
      "Epoch 22/100\n",
      "8000/8000 [==============================] - 1s 91us/step - loss: 0.4065 - acc: 0.8225\n",
      "Epoch 23/100\n",
      "8000/8000 [==============================] - 1s 100us/step - loss: 0.4054 - acc: 0.8230\n",
      "Epoch 24/100\n",
      "8000/8000 [==============================] - 1s 100us/step - loss: 0.4044 - acc: 0.8236\n",
      "Epoch 25/100\n",
      "8000/8000 [==============================] - 1s 119us/step - loss: 0.4033 - acc: 0.8236 0s - loss: 0.4032 - - ETA: 0s - loss: 0.4028 - acc: 0.8\n",
      "Epoch 26/100\n",
      "8000/8000 [==============================] - 1s 119us/step - loss: 0.4024 - acc: 0.8244\n",
      "Epoch 27/100\n",
      "8000/8000 [==============================] - 1s 108us/step - loss: 0.4015 - acc: 0.8247\n",
      "Epoch 28/100\n",
      "8000/8000 [==============================] - 1s 115us/step - loss: 0.4006 - acc: 0.8249\n",
      "Epoch 29/100\n",
      "8000/8000 [==============================] - 1s 106us/step - loss: 0.3997 - acc: 0.8255\n",
      "Epoch 30/100\n",
      "8000/8000 [==============================] - 1s 113us/step - loss: 0.3988 - acc: 0.8265\n",
      "Epoch 31/100\n",
      "8000/8000 [==============================] - 1s 97us/step - loss: 0.3980 - acc: 0.8261\n",
      "Epoch 32/100\n",
      "8000/8000 [==============================] - 1s 101us/step - loss: 0.3972 - acc: 0.8264\n",
      "Epoch 33/100\n",
      "8000/8000 [==============================] - 1s 117us/step - loss: 0.3964 - acc: 0.8270 0s - loss: 0.3901 - ac\n",
      "Epoch 34/100\n",
      "8000/8000 [==============================] - 1s 136us/step - loss: 0.3957 - acc: 0.8279\n",
      "Epoch 35/100\n",
      "8000/8000 [==============================] - 1s 131us/step - loss: 0.3949 - acc: 0.8282\n",
      "Epoch 36/100\n",
      "8000/8000 [==============================] - 1s 112us/step - loss: 0.3941 - acc: 0.8286\n",
      "Epoch 37/100\n",
      "8000/8000 [==============================] - 1s 139us/step - loss: 0.3934 - acc: 0.8291\n",
      "Epoch 38/100\n",
      "8000/8000 [==============================] - 1s 119us/step - loss: 0.3927 - acc: 0.8301 0s - loss: 0.3917 - acc: 0\n",
      "Epoch 39/100\n",
      "8000/8000 [==============================] - 1s 102us/step - loss: 0.3920 - acc: 0.8306\n",
      "Epoch 40/100\n",
      "8000/8000 [==============================] - 1s 93us/step - loss: 0.3912 - acc: 0.8304\n",
      "Epoch 41/100\n",
      "8000/8000 [==============================] - 1s 95us/step - loss: 0.3905 - acc: 0.8304\n",
      "Epoch 42/100\n",
      "8000/8000 [==============================] - 1s 94us/step - loss: 0.3898 - acc: 0.8317\n",
      "Epoch 43/100\n",
      "8000/8000 [==============================] - 1s 94us/step - loss: 0.3891 - acc: 0.8324\n",
      "Epoch 44/100\n",
      "8000/8000 [==============================] - 1s 88us/step - loss: 0.3884 - acc: 0.8324\n",
      "Epoch 45/100\n",
      "8000/8000 [==============================] - 1s 88us/step - loss: 0.3878 - acc: 0.8332\n",
      "Epoch 46/100\n",
      "8000/8000 [==============================] - 1s 97us/step - loss: 0.3871 - acc: 0.8337\n",
      "Epoch 47/100\n",
      "8000/8000 [==============================] - 1s 89us/step - loss: 0.3865 - acc: 0.8340\n",
      "Epoch 48/100\n",
      "8000/8000 [==============================] - 1s 90us/step - loss: 0.3858 - acc: 0.8350\n",
      "Epoch 49/100\n",
      "8000/8000 [==============================] - 1s 94us/step - loss: 0.3852 - acc: 0.8356\n",
      "Epoch 50/100\n",
      "8000/8000 [==============================] - 1s 87us/step - loss: 0.3846 - acc: 0.8361\n",
      "Epoch 51/100\n",
      "8000/8000 [==============================] - 1s 86us/step - loss: 0.3840 - acc: 0.8374\n",
      "Epoch 52/100\n",
      "8000/8000 [==============================] - 1s 93us/step - loss: 0.3834 - acc: 0.8384\n",
      "Epoch 53/100\n",
      "8000/8000 [==============================] - 1s 97us/step - loss: 0.3828 - acc: 0.8392\n",
      "Epoch 54/100\n",
      "8000/8000 [==============================] - 1s 89us/step - loss: 0.3822 - acc: 0.8401\n",
      "Epoch 55/100\n",
      "8000/8000 [==============================] - 1s 87us/step - loss: 0.3816 - acc: 0.8404\n",
      "Epoch 56/100\n",
      "8000/8000 [==============================] - 1s 88us/step - loss: 0.3810 - acc: 0.8405\n",
      "Epoch 57/100\n",
      "8000/8000 [==============================] - 1s 86us/step - loss: 0.3804 - acc: 0.8406\n",
      "Epoch 58/100\n",
      "8000/8000 [==============================] - 1s 88us/step - loss: 0.3798 - acc: 0.8415\n",
      "Epoch 59/100\n",
      "8000/8000 [==============================] - 1s 89us/step - loss: 0.3792 - acc: 0.8411\n",
      "Epoch 60/100\n",
      "8000/8000 [==============================] - 1s 88us/step - loss: 0.3787 - acc: 0.8416\n",
      "Epoch 61/100\n",
      "8000/8000 [==============================] - 1s 85us/step - loss: 0.3781 - acc: 0.8424\n",
      "Epoch 62/100\n",
      "8000/8000 [==============================] - 1s 88us/step - loss: 0.3775 - acc: 0.8426\n",
      "Epoch 63/100\n",
      "8000/8000 [==============================] - 1s 88us/step - loss: 0.3770 - acc: 0.8431\n",
      "Epoch 64/100\n",
      "8000/8000 [==============================] - 1s 84us/step - loss: 0.3764 - acc: 0.8432\n",
      "Epoch 65/100\n",
      "8000/8000 [==============================] - 1s 87us/step - loss: 0.3759 - acc: 0.8434\n",
      "Epoch 66/100\n",
      "8000/8000 [==============================] - 1s 87us/step - loss: 0.3754 - acc: 0.8439\n",
      "Epoch 67/100\n",
      "8000/8000 [==============================] - 1s 89us/step - loss: 0.3748 - acc: 0.8442\n",
      "Epoch 68/100\n",
      "8000/8000 [==============================] - 1s 93us/step - loss: 0.3743 - acc: 0.8447\n",
      "Epoch 69/100\n",
      "8000/8000 [==============================] - 1s 86us/step - loss: 0.3738 - acc: 0.8449\n",
      "Epoch 70/100\n",
      "8000/8000 [==============================] - 1s 91us/step - loss: 0.3733 - acc: 0.8466\n",
      "Epoch 71/100\n",
      "8000/8000 [==============================] - 1s 90us/step - loss: 0.3728 - acc: 0.8467\n",
      "Epoch 72/100\n",
      "8000/8000 [==============================] - 1s 87us/step - loss: 0.3723 - acc: 0.8472\n",
      "Epoch 73/100\n",
      "8000/8000 [==============================] - 1s 88us/step - loss: 0.3717 - acc: 0.8474\n",
      "Epoch 74/100\n",
      "8000/8000 [==============================] - 1s 107us/step - loss: 0.3713 - acc: 0.8481\n",
      "Epoch 75/100\n",
      "8000/8000 [==============================] - 1s 95us/step - loss: 0.3708 - acc: 0.8481\n",
      "Epoch 76/100\n",
      "8000/8000 [==============================] - 1s 91us/step - loss: 0.3703 - acc: 0.8489\n",
      "Epoch 77/100\n",
      "8000/8000 [==============================] - 1s 90us/step - loss: 0.3698 - acc: 0.8495\n",
      "Epoch 78/100\n",
      "8000/8000 [==============================] - 1s 102us/step - loss: 0.3693 - acc: 0.8499\n",
      "Epoch 79/100\n",
      "8000/8000 [==============================] - 1s 94us/step - loss: 0.3689 - acc: 0.8499\n",
      "Epoch 80/100\n",
      "8000/8000 [==============================] - 1s 90us/step - loss: 0.3684 - acc: 0.8506\n",
      "Epoch 81/100\n",
      "8000/8000 [==============================] - 1s 91us/step - loss: 0.3680 - acc: 0.8506\n",
      "Epoch 82/100\n",
      "8000/8000 [==============================] - 1s 99us/step - loss: 0.3676 - acc: 0.8505\n",
      "Epoch 83/100\n",
      "8000/8000 [==============================] - 1s 100us/step - loss: 0.3672 - acc: 0.8507\n",
      "Epoch 84/100\n",
      "8000/8000 [==============================] - 1s 98us/step - loss: 0.3667 - acc: 0.8514\n",
      "Epoch 85/100\n",
      "8000/8000 [==============================] - 1s 102us/step - loss: 0.3663 - acc: 0.8512\n",
      "Epoch 86/100\n",
      "8000/8000 [==============================] - 1s 97us/step - loss: 0.3659 - acc: 0.8520\n",
      "Epoch 87/100\n",
      "8000/8000 [==============================] - 1s 94us/step - loss: 0.3656 - acc: 0.8520\n",
      "Epoch 88/100\n",
      "8000/8000 [==============================] - 1s 94us/step - loss: 0.3652 - acc: 0.8522\n",
      "Epoch 89/100\n",
      "8000/8000 [==============================] - 1s 88us/step - loss: 0.3648 - acc: 0.8525\n",
      "Epoch 90/100\n",
      "8000/8000 [==============================] - 1s 90us/step - loss: 0.3644 - acc: 0.8526\n",
      "Epoch 91/100\n",
      "8000/8000 [==============================] - 1s 96us/step - loss: 0.3641 - acc: 0.8529\n",
      "Epoch 92/100\n",
      "8000/8000 [==============================] - 1s 103us/step - loss: 0.3637 - acc: 0.8531\n",
      "Epoch 93/100\n",
      "8000/8000 [==============================] - 1s 126us/step - loss: 0.3634 - acc: 0.8527\n",
      "Epoch 94/100\n",
      "8000/8000 [==============================] - 1s 91us/step - loss: 0.3630 - acc: 0.8530\n",
      "Epoch 95/100\n",
      "8000/8000 [==============================] - 1s 99us/step - loss: 0.3627 - acc: 0.8527\n",
      "Epoch 96/100\n",
      "8000/8000 [==============================] - 1s 100us/step - loss: 0.3624 - acc: 0.8522\n",
      "Epoch 97/100\n",
      "8000/8000 [==============================] - 1s 101us/step - loss: 0.3620 - acc: 0.8520\n",
      "Epoch 98/100\n",
      "8000/8000 [==============================] - 1s 121us/step - loss: 0.3617 - acc: 0.8524\n",
      "Epoch 99/100\n",
      "8000/8000 [==============================] - 1s 129us/step - loss: 0.3614 - acc: 0.8522\n",
      "Epoch 100/100\n",
      "8000/8000 [==============================] - 1s 107us/step - loss: 0.3611 - acc: 0.8524\n"
     ]
    },
    {
     "data": {
      "text/plain": [
       "<keras.callbacks.History at 0x6227e57f0>"
      ]
     },
     "execution_count": 20,
     "metadata": {},
     "output_type": "execute_result"
    }
   ],
   "source": [
    "# Fitting the ANN to the Training set\n",
    "classifier.fit(X_train, y_train, batch_size = 10, nb_epoch = 100)"
   ]
  },
  {
   "cell_type": "code",
   "execution_count": 21,
   "metadata": {},
   "outputs": [],
   "source": [
    "# Predicting the Test set results\n",
    "y_pred = classifier.predict(X_test)\n",
    "y_pred = (y_pred > 0.5)\n",
    "\n",
    "# Making the Confusion Matrix\n",
    "from sklearn.metrics import confusion_matrix\n",
    "cm = confusion_matrix(y_test, y_pred)"
   ]
  },
  {
   "cell_type": "code",
   "execution_count": null,
   "metadata": {},
   "outputs": [],
   "source": []
  }
 ],
 "metadata": {
  "kernelspec": {
   "display_name": "Python 3",
   "language": "python",
   "name": "python3"
  },
  "language_info": {
   "codemirror_mode": {
    "name": "ipython",
    "version": 3
   },
   "file_extension": ".py",
   "mimetype": "text/x-python",
   "name": "python",
   "nbconvert_exporter": "python",
   "pygments_lexer": "ipython3",
   "version": "3.6.10"
  }
 },
 "nbformat": 4,
 "nbformat_minor": 4
}
